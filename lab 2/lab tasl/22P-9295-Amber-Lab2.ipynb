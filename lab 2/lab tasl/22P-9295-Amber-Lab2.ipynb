{
 "cells": [
  {
   "cell_type": "code",
   "execution_count": 30,
   "metadata": {},
   "outputs": [
    {
     "name": "stdout",
     "output_type": "stream",
     "text": [
      "Temperature is normal \n"
     ]
    }
   ],
   "source": [
    "percept = [\"yes\", \"no\", \"30\", \"NULL\"]\n",
    "state = [\"smoke present\", \"no smoke\", \"high temperature\", \"Temperature is normal \"]\n",
    "rules = [\n",
    "    \"the alarm will sound, and activate sprinkler system\", \"the system remains in its normal state with the alarm off and the sprinkler system deactivated.\",\n",
    "    \"the alarm will sound, and call fire department\",  \"Temperature is normal \"]\n",
    "\n",
    "def getState(percept):\n",
    "    if percept == \"yes\":\n",
    "        print(state[0])\n",
    "        return state[0]\n",
    "    elif percept == \"no\":\n",
    "        print(state[1])\n",
    "        return state[1]\n",
    "    elif int(percept) > 30:  \n",
    "        print(state[2])\n",
    "        return state[2]\n",
    "    elif int(percept) < 30:\n",
    "        return state[3]\n",
    "        \n",
    "\n",
    "def getRules(state):\n",
    "    if state == \"smoke present\":\n",
    "        return rules[0]\n",
    "    elif state == \"no smoke\":\n",
    "        return rules[1]\n",
    "    elif state == \"high temperature\":\n",
    "        return rules[2]\n",
    "    elif state ==\"Temperature is normal \":\n",
    "        return rules[3]\n",
    "\n",
    "def simpleReflexAgent(percep):\n",
    "    return getRules(getState(percep))\n",
    "\n",
    "inp = input(\"Enter your perception: \")\n",
    "rule = simpleReflexAgent(inp)\n",
    "print(rule)\n"
   ]
  },
  {
   "cell_type": "code",
   "execution_count": 36,
   "metadata": {},
   "outputs": [
    {
     "name": "stdout",
     "output_type": "stream",
     "text": [
      "Dry soil\n",
      "activates the watering system\n"
     ]
    }
   ],
   "source": [
    "percept = [\"5\", \"10\", \"15\"]\n",
    "state = [\"Dry soil\", \"Moist soil\", \"Wet soil\"]\n",
    "rules = [\n",
    "    \"activates the watering system\", \"keep watering system off\",\n",
    "    \"deactivate the watering system\"]\n",
    "\n",
    "def getState(percept):\n",
    "    if percept == \"5\":\n",
    "        print(state[0])\n",
    "        return state[0]\n",
    "    \n",
    "    elif percept == \"10\":\n",
    "        print(state[1])\n",
    "        return state[1]\n",
    "    \n",
    "    else:  \n",
    "        print(state[2])\n",
    "        return state[2]\n",
    "   \n",
    "        \n",
    "\n",
    "def getRules(state):\n",
    "    if state == \"Dry soil\":\n",
    "        return rules[0]\n",
    "    \n",
    "    elif state == \"Moist soil\":\n",
    "        return rules[1]\n",
    "    \n",
    "    elif state == \"Wet soil\":\n",
    "        return rules[2]\n",
    "   \n",
    "\n",
    "def simpleReflexAgent(percep):\n",
    "    return getRules(getState(percep))\n",
    "\n",
    "inp = input(\"Enter your perception: \")\n",
    "rule = simpleReflexAgent(inp)\n",
    "print(rule)\n"
   ]
  }
 ],
 "metadata": {
  "kernelspec": {
   "display_name": "Python 3",
   "language": "python",
   "name": "python3"
  },
  "language_info": {
   "codemirror_mode": {
    "name": "ipython",
    "version": 3
   },
   "file_extension": ".py",
   "mimetype": "text/x-python",
   "name": "python",
   "nbconvert_exporter": "python",
   "pygments_lexer": "ipython3",
   "version": "3.12.0"
  }
 },
 "nbformat": 4,
 "nbformat_minor": 2
}
