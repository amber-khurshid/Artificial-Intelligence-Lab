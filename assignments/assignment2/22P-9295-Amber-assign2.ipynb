{
 "cells": [
  {
   "cell_type": "code",
   "execution_count": 279,
   "metadata": {},
   "outputs": [],
   "source": [
    "import pandas as pd\n",
    "import numpy as np\n",
    "from sklearn.preprocessing import StandardScaler, LabelEncoder\n",
    "from keras.models import Sequential\n",
    "from keras.layers import Dense\n",
    "from keras.utils import to_categorical\n",
    "from sklearn.model_selection import train_test_split\n",
    "from sklearn.metrics import mean_squared_error, mean_absolute_error\n",
    "\n",
    "# Load dataset\n",
    "df = pd.read_csv('listing_data_publish.csv')\n"
   ]
  },
  {
   "cell_type": "code",
   "execution_count": 280,
   "metadata": {},
   "outputs": [],
   "source": [
    "df = df.dropna()\n"
   ]
  },
  {
   "cell_type": "code",
   "execution_count": 281,
   "metadata": {},
   "outputs": [],
   "source": [
    "df = df.drop_duplicates()\n"
   ]
  },
  {
   "cell_type": "code",
   "execution_count": 282,
   "metadata": {},
   "outputs": [],
   "source": [
    "df = df.fillna(df.mean())"
   ]
  },
  {
   "cell_type": "code",
   "execution_count": 283,
   "metadata": {},
   "outputs": [
    {
     "name": "stdout",
     "output_type": "stream",
     "text": [
      "Inter Quantile Range =  listing_id           NaN\n",
      "type                 NaN\n",
      "sub_type             NaN\n",
      "start_date           NaN\n",
      "end_date             NaN\n",
      "listing_type         NaN\n",
      "building_age         NaN\n",
      "total_floor_count    NaN\n",
      "floor_no             NaN\n",
      "room_count           NaN\n",
      "size                 NaN\n",
      "student_avaliable    NaN\n",
      "mortgage_avaliable   NaN\n",
      "address              NaN\n",
      "furnished            NaN\n",
      "heating_type         NaN\n",
      "price                NaN\n",
      "currency             NaN\n",
      "dtype: float64\n"
     ]
    }
   ],
   "source": [
    "q1 = df.quantile(0.25)\n",
    "q3 = df.quantile(0.75)\n",
    "IQR = q3 - q1\n",
    "print(\"Inter Quantile Range = \", IQR)"
   ]
  },
  {
   "cell_type": "code",
   "execution_count": 284,
   "metadata": {},
   "outputs": [
    {
     "name": "stdout",
     "output_type": "stream",
     "text": [
      "Upper Bound:  listing_id           NaN\n",
      "type                 NaN\n",
      "sub_type             NaN\n",
      "start_date           NaN\n",
      "end_date             NaN\n",
      "listing_type         NaN\n",
      "building_age         NaN\n",
      "total_floor_count    NaN\n",
      "floor_no             NaN\n",
      "room_count           NaN\n",
      "size                 NaN\n",
      "student_avaliable    NaN\n",
      "mortgage_avaliable   NaN\n",
      "address              NaN\n",
      "furnished            NaN\n",
      "heating_type         NaN\n",
      "price                NaN\n",
      "currency             NaN\n",
      "dtype: float64\n"
     ]
    }
   ],
   "source": [
    "upperBound = q1 - 1.5 * IQR\n",
    "print(\"Upper Bound: \", upperBound)"
   ]
  },
  {
   "cell_type": "code",
   "execution_count": 285,
   "metadata": {},
   "outputs": [
    {
     "name": "stdout",
     "output_type": "stream",
     "text": [
      "Lower Bound:  listing_id           NaN\n",
      "type                 NaN\n",
      "sub_type             NaN\n",
      "start_date           NaN\n",
      "end_date             NaN\n",
      "listing_type         NaN\n",
      "building_age         NaN\n",
      "total_floor_count    NaN\n",
      "floor_no             NaN\n",
      "room_count           NaN\n",
      "size                 NaN\n",
      "student_avaliable    NaN\n",
      "mortgage_avaliable   NaN\n",
      "address              NaN\n",
      "furnished            NaN\n",
      "heating_type         NaN\n",
      "price                NaN\n",
      "currency             NaN\n",
      "dtype: float64\n"
     ]
    }
   ],
   "source": [
    "lowerBound = q3 + 1.5 * IQR\n",
    "print(\"Lower Bound: \", lowerBound)"
   ]
  },
  {
   "cell_type": "code",
   "execution_count": 286,
   "metadata": {},
   "outputs": [
    {
     "name": "stdout",
     "output_type": "stream",
     "text": [
      "Removing Outliers =  Empty DataFrame\n",
      "Columns: [listing_id, type, sub_type, start_date, end_date, listing_type, building_age, total_floor_count, floor_no, room_count, size, student_avaliable, mortgage_avaliable, address, furnished, heating_type, price, currency]\n",
      "Index: []\n",
      "Removing NULL Values after removing the outliers =  Empty DataFrame\n",
      "Columns: [listing_id, type, sub_type, start_date, end_date, listing_type, building_age, total_floor_count, floor_no, room_count, size, student_avaliable, mortgage_avaliable, address, furnished, heating_type, price, currency]\n",
      "Index: []\n"
     ]
    }
   ],
   "source": [
    "removeOutliers = df[(df >= lowerBound) & (df <= upperBound)]\n",
    "print(\"Removing Outliers = \", removeOutliers)\n",
    "removingNullVal = df.fillna(df.mean())\n",
    "print(\"Removing NULL Values after removing the outliers = \", removingNullVal)"
   ]
  },
  {
   "cell_type": "code",
   "execution_count": 287,
   "metadata": {},
   "outputs": [],
   "source": [
    "# Feature Engineering\n",
    "le = LabelEncoder()\n",
    "df['address'] = le.fit_transform(df['address'])\n",
    "le = LabelEncoder()\n",
    "df['type'] = le.fit_transform(df['type'])\n",
    "le = LabelEncoder()\n",
    "df['sub_type'] = le.fit_transform(df['sub_type'])"
   ]
  },
  {
   "cell_type": "code",
   "execution_count": 288,
   "metadata": {},
   "outputs": [],
   "source": [
    "# Convert 'start_date' to datetime and extract numerical columns\n",
    "df['start_date'] = pd.to_datetime(df['start_date'])\n",
    "df['start_day'] = df['start_date'].dt.day\n",
    "df['start_month'] = df['start_date'].dt.month\n",
    "df['start_year'] = df['start_date'].dt.year\n",
    "df = df.drop(['start_date'], axis=1)"
   ]
  },
  {
   "cell_type": "code",
   "execution_count": 289,
   "metadata": {},
   "outputs": [],
   "source": [
    "# Convert 'start_date' to datetime and extract numerical columns\n",
    "df['end_date'] = pd.to_datetime(df['end_date'])\n",
    "df['end_day'] = df['end_date'].dt.day\n",
    "df['end_month'] = df['end_date'].dt.month\n",
    "df['end_year'] = df['end_date'].dt.year\n",
    "df = df.drop(['end_date'], axis=1)"
   ]
  },
  {
   "cell_type": "code",
   "execution_count": 290,
   "metadata": {},
   "outputs": [
    {
     "data": {
      "text/plain": [
       "Index(['listing_id', 'type', 'sub_type', 'listing_type', 'building_age',\n",
       "       'total_floor_count', 'floor_no', 'room_count', 'size',\n",
       "       'student_avaliable', 'mortgage_avaliable', 'address', 'furnished',\n",
       "       'heating_type', 'price', 'currency', 'start_day', 'start_month',\n",
       "       'start_year', 'end_day', 'end_month', 'end_year'],\n",
       "      dtype='object')"
      ]
     },
     "execution_count": 290,
     "metadata": {},
     "output_type": "execute_result"
    }
   ],
   "source": [
    "df.columns"
   ]
  },
  {
   "cell_type": "code",
   "execution_count": 291,
   "metadata": {},
   "outputs": [
    {
     "name": "stdout",
     "output_type": "stream",
     "text": [
      "Error: The dataset is empty.\n"
     ]
    }
   ],
   "source": [
    "# Split data into training and testing sets\n",
    "# z=df.drop(['start_day', 'start_month','start_year' ], axis=1)\n",
    "X = df.drop(['price', 'currency'], axis=1)\n",
    "y = df['price']\n",
    "# Check if the dataset is not empty\n",
    "if len(X) > 0 and len(y) > 0:\n",
    "    X_train, X_test, y_train, y_test = train_test_split(X, y, test_size=0.1, random_state=42)\n",
    "else:\n",
    "    print(\"Error: The dataset is empty.\")"
   ]
  },
  {
   "cell_type": "code",
   "execution_count": 294,
   "metadata": {},
   "outputs": [],
   "source": [
    "# Scale data\n",
    "scaler = StandardScaler()\n",
    "X_train_scaled = scaler.fit_transform(X_train)\n",
    "X_test_scaled = scaler.transform(X_test)"
   ]
  },
  {
   "cell_type": "code",
   "execution_count": null,
   "metadata": {},
   "outputs": [
    {
     "name": "stderr",
     "output_type": "stream",
     "text": [
      "C:\\Users\\HP\\AppData\\Roaming\\Python\\Python312\\site-packages\\keras\\src\\layers\\core\\dense.py:87: UserWarning: Do not pass an `input_shape`/`input_dim` argument to a layer. When using Sequential models, prefer using an `Input(shape)` object as the first layer in the model instead.\n",
      "  super().__init__(activity_regularizer=activity_regularizer, **kwargs)\n"
     ]
    }
   ],
   "source": [
    "# Build ANN model\n",
    "model = Sequential()\n",
    "model.add(Dense(64, activation='relu', input_shape=(X_train.shape[1],)))\n",
    "model.add(Dense(64, activation='relu'))\n",
    "model.add(Dense(1))\n",
    "model.compile(loss='mean_squared_error', optimizer='adam')"
   ]
  },
  {
   "cell_type": "code",
   "execution_count": 293,
   "metadata": {},
   "outputs": [],
   "source": [
    "# Train the model\n",
    "model.fit(X_train_scaled, y_train, epochs=100, batch_size=32, validation_data=(X_test_scaled, y_test))"
   ]
  },
  {
   "cell_type": "code",
   "execution_count": null,
   "metadata": {},
   "outputs": [],
   "source": [
    "# Evaluate the model\n",
    "mse = mean_squared_error(y_test, model.predict(X_test_scaled))\n",
    "mae = mean_absolute_error(y_test, model.predict(X_test_scaled))\n",
    "print(f'Test MSE: {mse}, Test MAE: {mae}')"
   ]
  }
 ],
 "metadata": {
  "kernelspec": {
   "display_name": "Python 3",
   "language": "python",
   "name": "python3"
  },
  "language_info": {
   "codemirror_mode": {
    "name": "ipython",
    "version": 3
   },
   "file_extension": ".py",
   "mimetype": "text/x-python",
   "name": "python",
   "nbconvert_exporter": "python",
   "pygments_lexer": "ipython3",
   "version": "3.12.0"
  }
 },
 "nbformat": 4,
 "nbformat_minor": 2
}
