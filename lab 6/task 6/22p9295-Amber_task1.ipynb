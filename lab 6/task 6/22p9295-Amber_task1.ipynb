{
 "cells": [
  {
   "cell_type": "code",
   "execution_count": 31,
   "metadata": {},
   "outputs": [
    {
     "name": "stdout",
     "output_type": "stream",
     "text": [
      "    Smoke  Lungs Capacity Cancer\n",
      "0       0              10     No\n",
      "1       0              11     No\n",
      "2       1              10     No\n",
      "3       2               9     No\n",
      "4       0               9     No\n",
      "5       1               9    Yes\n",
      "6       3              10     No\n",
      "7       3               8    Yes\n",
      "8       3               8    Yes\n",
      "9       3               9     No\n",
      "10      5               6    Yes\n",
      "11      5               6    Yes\n",
      "12      7               6    Yes\n",
      "13      7               8    Yes\n",
      "14      8               5    Yes\n"
     ]
    }
   ],
   "source": [
    "import pandas as pd\n",
    "import math\n",
    "import matplotlib.pyplot as plt\n",
    "\n",
    "df = pd.read_csv(\"dataset .csv\")\n",
    "print(df)\n",
    "\n"
   ]
  },
  {
   "cell_type": "code",
   "execution_count": 32,
   "metadata": {},
   "outputs": [],
   "source": [
    "def euclidean_distance(smoke, lungs_capacity, smoke_test, lungs_capacity_test):\n",
    "    distance = math.sqrt((smoke - smoke_test)**2 + (lungs_capacity - lungs_capacity_test)**2)\n",
    "    return distance"
   ]
  },
  {
   "cell_type": "code",
   "execution_count": 33,
   "metadata": {},
   "outputs": [],
   "source": [
    "def get_neighbours(smoke, lung_capacity, smoke_test, lungs_capacity_test, no_of_neighbours):\n",
    "    distances = []\n",
    "    for i in range(len(smoke)):\n",
    "        distance = euclidean_distance(smoke[i], lung_capacity[i], smoke_test, lungs_capacity_test)\n",
    "        distances.append((i, distance))\n",
    "\n",
    "    distances.sort(key=lambda x: x[1])\n",
    "    neighbours = []\n",
    "    for i in range(no_of_neighbours):\n",
    "        neighbours.append(distances[i][0])\n",
    "    return neighbours"
   ]
  },
  {
   "cell_type": "code",
   "execution_count": 34,
   "metadata": {},
   "outputs": [],
   "source": [
    "def predict_classification(smoke, lung_capacity, smoke_test, lungs_capacity_test, num):\n",
    "    neighbours = get_neighbours(smoke, lung_capacity, smoke_test, lungs_capacity_test, num)\n",
    "\n",
    "    Cancer = [df.iloc[i]['Cancer'] for i in neighbours]\n",
    "    yes=0\n",
    "    no=0\n",
    "    for val in Cancer:\n",
    "        if val.lower() == 'Yes':\n",
    "            yes += 1\n",
    "        elif val.lower() == 'No':\n",
    "            no += 1\n",
    "\n",
    "    if yes > no:\n",
    "        return 'yes'\n",
    "    elif no > yes:\n",
    "        return 'no'        \n",
    "\n",
    "    return val"
   ]
  },
  {
   "cell_type": "code",
   "execution_count": 35,
   "metadata": {},
   "outputs": [
    {
     "name": "stdout",
     "output_type": "stream",
     "text": [
      "Prediction: Yes\n"
     ]
    }
   ],
   "source": [
    "\n",
    "smoke = df['Smoke'].values\n",
    "lung_capacity = df['Lungs Capacity'].values\n",
    "smoke_test = 5  \n",
    "lungs_capacity_test = 6  \n",
    "num = 3  \n",
    "\n",
    "prediction = predict_classification(smoke, lung_capacity, smoke_test, lungs_capacity_test, num)\n",
    "print(\"Prediction:\", prediction)"
   ]
  },
  {
   "cell_type": "code",
   "execution_count": 36,
   "metadata": {},
   "outputs": [
    {
     "data": {
      "image/png": "[encoded data removed]",
      "text/plain": [
       "<Figure size 640x480 with 1 Axes>"
      ]
     },
     "metadata": {},
     "output_type": "display_data"
    }
   ],
   "source": [
    "plt.scatter(df['Smoke'], df['Lungs Capacity'])\n",
    "plt.xlabel('Smoke')\n",
    "plt.ylabel('Lungs Capacity')\n",
    "plt.title('Smoke vs. Lungs Capacity colored by Cancer')\n",
    "plt.show()"
   ]
  }
 ],
 "metadata": {
  "kernelspec": {
   "display_name": "Python 3",
   "language": "python",
   "name": "python3"
  },
  "language_info": {
   "codemirror_mode": {
    "name": "ipython",
    "version": 3
   },
   "file_extension": ".py",
   "mimetype": "text/x-python",
   "name": "python",
   "nbconvert_exporter": "python",
   "pygments_lexer": "ipython3",
   "version": "3.12.0"
  }
 },
 "nbformat": 4,
 "nbformat_minor": 2
}
